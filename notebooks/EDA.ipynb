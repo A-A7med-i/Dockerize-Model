{
 "cells": [
  {
   "metadata": {},
   "cell_type": "code",
   "source": [
    "import sys\n",
    "\n",
    "sys.path.append(\"../\")"
   ],
   "id": "a2b9abb4f71f3e34",
   "outputs": [],
   "execution_count": null
  },
  {
   "metadata": {},
   "cell_type": "code",
   "source": [
    "from src.visualization.plot import plot_label_counts, plot_random_image\n",
    "from src.data.implement_data import FruitImageDataset\n",
    "from src.processing.processor import ImageProcessor\n",
    "from src.utils.helper import save_json\n",
    "from src.constants.constants import *"
   ],
   "id": "e583c9fd942298ce",
   "outputs": [],
   "execution_count": null
  },
  {
   "metadata": {},
   "cell_type": "code",
   "source": "image = FruitImageDataset(RAW_DATA)",
   "id": "1eae059a587c7f1d",
   "outputs": [],
   "execution_count": null
  },
  {
   "metadata": {},
   "cell_type": "code",
   "source": "paths = image.get_all_image_paths_with_labels()",
   "id": "58265e6b2c66948c",
   "outputs": [],
   "execution_count": null
  },
  {
   "metadata": {},
   "cell_type": "code",
   "source": "paths[0]",
   "id": "3908031b649b7a75",
   "outputs": [],
   "execution_count": null
  },
  {
   "metadata": {},
   "cell_type": "code",
   "source": "processing = ImageProcessor()",
   "id": "3ed9f908c6b9060",
   "outputs": [],
   "execution_count": null
  },
  {
   "metadata": {},
   "cell_type": "code",
   "source": "x_train, x_test, y_train, y_test = processing.split_data(paths)",
   "id": "a4d3cc63c9c42cce",
   "outputs": [],
   "execution_count": null
  },
  {
   "metadata": {},
   "cell_type": "code",
   "source": "plot_label_counts(paths)",
   "id": "41d319fae4bf79e4",
   "outputs": [],
   "execution_count": null
  },
  {
   "metadata": {},
   "cell_type": "code",
   "source": "plot_random_image(paths, image, processing)",
   "id": "673f6eb206a9745d",
   "outputs": [],
   "execution_count": null
  },
  {
   "metadata": {},
   "cell_type": "code",
   "source": "save_json(x_train, X_TRAIN)",
   "id": "fe4af9dce5c93ee9",
   "outputs": [],
   "execution_count": null
  },
  {
   "metadata": {},
   "cell_type": "code",
   "source": "save_json(x_test, X_TEST)",
   "id": "81950adfef8e84f9",
   "outputs": [],
   "execution_count": null
  },
  {
   "metadata": {},
   "cell_type": "code",
   "source": "save_json(y_train, Y_TRAIN)",
   "id": "1132b26d82615577",
   "outputs": [],
   "execution_count": null
  },
  {
   "metadata": {},
   "cell_type": "code",
   "source": "save_json(y_test, Y_TEST)",
   "id": "e0b5c0f7decc56ae",
   "outputs": [],
   "execution_count": null
  }
 ],
 "metadata": {},
 "nbformat": 4,
 "nbformat_minor": 5
}
