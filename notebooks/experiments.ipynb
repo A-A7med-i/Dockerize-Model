{
 "cells": [
  {
   "metadata": {},
   "cell_type": "code",
   "source": [
    "import sys\n",
    "\n",
    "sys.path.append(\"../\")"
   ],
   "id": "3600d895e981190f",
   "outputs": [],
   "execution_count": null
  },
  {
   "metadata": {},
   "cell_type": "code",
   "source": [
    "from src.data.implement_data import FruitImageDataset\n",
    "from src.processing.processor import ImageProcessor\n",
    "from src.models.model import ImageClassifier\n",
    "from src.utils.helper import load_json\n",
    "from src.constants.constants import *"
   ],
   "id": "dc575014398bc0e5",
   "outputs": [],
   "execution_count": null
  },
  {
   "metadata": {},
   "cell_type": "code",
   "source": "import numpy as np",
   "id": "e62d432c7c6ca34e",
   "outputs": [],
   "execution_count": null
  },
  {
   "metadata": {},
   "cell_type": "code",
   "source": [
    "x_train = load_json(X_TRAIN)\n",
    "x_test = load_json(X_TEST)\n",
    "y_train = load_json(Y_TRAIN)\n",
    "y_test = load_json(Y_TEST)"
   ],
   "id": "28eb74c3a7aa6ea6",
   "outputs": [],
   "execution_count": null
  },
  {
   "metadata": {},
   "cell_type": "code",
   "source": "image_loader, image_transformer = FruitImageDataset(RAW_DATA), ImageProcessor()",
   "id": "f55bb8bca843ec94",
   "outputs": [],
   "execution_count": null
  },
  {
   "metadata": {},
   "cell_type": "code",
   "source": [
    "def preprocess_images(image_paths, loader, transformer):\n",
    "    \"\"\"\n",
    "    Loads and preprocesses a list of image paths.\n",
    "\n",
    "    Args:\n",
    "        image_paths (List[str]): A list of file paths to the images.\n",
    "        loader: An object with a 'load_image' method.\n",
    "        transformer: An object with a 'resize_and_normalize' method.\n",
    "\n",
    "    Returns:\n",
    "        List[np.ndarray]: A list of preprocessed image data (e.g., NumPy arrays).\n",
    "    \"\"\"\n",
    "    return [\n",
    "        transformer.resize_and_normalize(loader.load_image(path))\n",
    "        for path in image_paths\n",
    "    ]"
   ],
   "id": "d24fd81db59b991",
   "outputs": [],
   "execution_count": null
  },
  {
   "metadata": {},
   "cell_type": "code",
   "source": "x_test_data = preprocess_images(x_test, image_loader, image_transformer)",
   "id": "eca424723fc72d8a",
   "outputs": [],
   "execution_count": null
  },
  {
   "metadata": {},
   "cell_type": "code",
   "source": "x_train_data = preprocess_images(x_train, image_loader, image_transformer)",
   "id": "44962a8163d20114",
   "outputs": [],
   "execution_count": null
  },
  {
   "metadata": {},
   "cell_type": "code",
   "source": "y_train_encoder = [ENCODER[item] for item in y_train]",
   "id": "e6d2d15bdaaed88a",
   "outputs": [],
   "execution_count": null
  },
  {
   "metadata": {},
   "cell_type": "code",
   "source": "y_test_encoder = [ENCODER[item] for item in y_test]",
   "id": "b9bb5085a4fb96f2",
   "outputs": [],
   "execution_count": null
  },
  {
   "metadata": {},
   "cell_type": "code",
   "source": "x_train_final = np.array(x_train_data, dtype=np.float32)",
   "id": "7dbd6955ee2d5968",
   "outputs": [],
   "execution_count": null
  },
  {
   "metadata": {},
   "cell_type": "code",
   "source": "x_test_final = np.array(x_test_data, dtype=np.float32)",
   "id": "4428446bed71bbb0",
   "outputs": [],
   "execution_count": null
  },
  {
   "metadata": {},
   "cell_type": "code",
   "source": "y_train_final = np.array(y_train_encoder, dtype=np.float16)",
   "id": "86216c93dfce0b17",
   "outputs": [],
   "execution_count": null
  },
  {
   "metadata": {},
   "cell_type": "code",
   "source": "y_test_final = np.array(y_test_encoder, dtype=np.float16)",
   "id": "364cf08eecec652a",
   "outputs": [],
   "execution_count": null
  },
  {
   "metadata": {},
   "cell_type": "code",
   "source": "model = ImageClassifier()",
   "id": "a98572115f4eef27",
   "outputs": [],
   "execution_count": null
  },
  {
   "metadata": {},
   "cell_type": "code",
   "source": "model.setup()",
   "id": "f54939b7cdf3c170",
   "outputs": [],
   "execution_count": null
  },
  {
   "metadata": {},
   "cell_type": "code",
   "source": "history = model.fit_model(x_train_final, y_train_final)",
   "id": "80f4c096aad79783",
   "outputs": [],
   "execution_count": null
  },
  {
   "metadata": {},
   "cell_type": "code",
   "source": "model.evaluate_model(x_test_final, y_test_final)",
   "id": "25fc19c4a9f5a1da",
   "outputs": [],
   "execution_count": null
  },
  {
   "metadata": {},
   "cell_type": "code",
   "source": "model.save_model(MODEL_PATH)",
   "id": "217f48b9a3c3da79",
   "outputs": [],
   "execution_count": null
  },
  {
   "metadata": {},
   "cell_type": "code",
   "source": "model.get_model_summary()",
   "id": "26ceae3692b4fe07",
   "outputs": [],
   "execution_count": null
  },
  {
   "metadata": {},
   "cell_type": "code",
   "source": "model.plot_history(history)",
   "id": "1646b49e6d8b84a7",
   "outputs": [],
   "execution_count": null
  }
 ],
 "metadata": {},
 "nbformat": 4,
 "nbformat_minor": 5
}
